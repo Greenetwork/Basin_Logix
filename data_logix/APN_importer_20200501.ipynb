{
 "cells": [
  {
   "cell_type": "markdown",
   "metadata": {},
   "source": [
    "## To Do:\n",
    "* ~~pull in apn data~~\n",
    "* ~~maybe look at it~~\n",
    "* maybe plot a little part of it\n",
    "* convert to shp to geojson\n",
    "* append to data pipeline for Non Fungible Token metadata\n",
    "---"
   ]
  },
  {
   "cell_type": "markdown",
   "metadata": {},
   "source": [
    "# APN import for San Juaquoin County\n",
    "\n",
    "#### Data type required:  \n",
    "\n",
    "should be in repo :)\n",
    "data source: http://www.sjmap.org/GISDataDownload.htm  \n",
    "\n",
    "#### Goals:\n",
    "* pull in apn data\n",
    "* maybe look at it\n",
    "* maybe plot a little part of it\n",
    "* convert to shp to geojson\n",
    "* append to data pipeline for Non Fungible Token metadata\n",
    "\n",
    "#### Process Overview:\n",
    "* no processing yet.....\n",
    "\n",
    "#### References:\n",
    "* __\n"
   ]
  },
  {
   "cell_type": "code",
   "execution_count": 10,
   "metadata": {},
   "outputs": [],
   "source": [
    "import pandas as pd\n",
    "import numpy as np\n",
    "import csv\n",
    "import datetime as dt\n",
    "import itertools\n",
    "import pickle\n",
    "import geopandas\n",
    "import pyproj\n",
    "import matplotlib.pyplot as plt"
   ]
  },
  {
   "cell_type": "code",
   "execution_count": 5,
   "metadata": {},
   "outputs": [],
   "source": [
    "tdate = dt.datetime.now().strftime(\"%Y%m%d%\") ## for appending to saved files as crude version control"
   ]
  },
  {
   "cell_type": "code",
   "execution_count": 6,
   "metadata": {},
   "outputs": [],
   "source": [
    "pd.options.display.max_colwidth = 100"
   ]
  },
  {
   "cell_type": "code",
   "execution_count": 8,
   "metadata": {},
   "outputs": [],
   "source": [
    "gdf_temp = geopandas.read_file('./data/APN/Parcels.shp')"
   ]
  },
  {
   "cell_type": "code",
   "execution_count": 13,
   "metadata": {
    "scrolled": true
   },
   "outputs": [],
   "source": [
    "## stupid to try and plot lol\n",
    "#fig, ax = plt.subplots(figsize = (10,10))\n",
    "#gdf_temp.plot(ax=ax)\n",
    "#plt.show()"
   ]
  },
  {
   "cell_type": "code",
   "execution_count": 14,
   "metadata": {},
   "outputs": [
    {
     "data": {
      "text/html": [
       "<div>\n",
       "<style scoped>\n",
       "    .dataframe tbody tr th:only-of-type {\n",
       "        vertical-align: middle;\n",
       "    }\n",
       "\n",
       "    .dataframe tbody tr th {\n",
       "        vertical-align: top;\n",
       "    }\n",
       "\n",
       "    .dataframe thead th {\n",
       "        text-align: right;\n",
       "    }\n",
       "</style>\n",
       "<table border=\"1\" class=\"dataframe\">\n",
       "  <thead>\n",
       "    <tr style=\"text-align: right;\">\n",
       "      <th></th>\n",
       "      <th>POLY_CODE</th>\n",
       "      <th>APN_CHR</th>\n",
       "      <th>ACC_CODE</th>\n",
       "      <th>APN</th>\n",
       "      <th>SHAPE_AREA</th>\n",
       "      <th>SHAPE_LEN</th>\n",
       "      <th>geometry</th>\n",
       "    </tr>\n",
       "  </thead>\n",
       "  <tbody>\n",
       "    <tr>\n",
       "      <th>0</th>\n",
       "      <td>7</td>\n",
       "      <td>00317053</td>\n",
       "      <td>RBS</td>\n",
       "      <td>317053</td>\n",
       "      <td>6.235886e+05</td>\n",
       "      <td>3947.169746</td>\n",
       "      <td>POLYGON ((6324484.990 2257661.982, 6323351.229 2257666.929, 6323145.850 2257887.648, 6322825.913...</td>\n",
       "    </tr>\n",
       "    <tr>\n",
       "      <th>1</th>\n",
       "      <td>7</td>\n",
       "      <td>00309032</td>\n",
       "      <td>RBS</td>\n",
       "      <td>309032</td>\n",
       "      <td>4.511820e+06</td>\n",
       "      <td>12130.003233</td>\n",
       "      <td>POLYGON ((6323570.342 2261775.239, 6323579.853 2260269.799, 6323580.121 2260239.178, 6323589.839...</td>\n",
       "    </tr>\n",
       "    <tr>\n",
       "      <th>2</th>\n",
       "      <td>7</td>\n",
       "      <td>00319003</td>\n",
       "      <td>RBS</td>\n",
       "      <td>319003</td>\n",
       "      <td>2.834361e+06</td>\n",
       "      <td>11981.865339</td>\n",
       "      <td>POLYGON ((6309489.680 2264582.144, 6314914.945 2264644.100, 6314916.863 2264622.641, 6314915.060...</td>\n",
       "    </tr>\n",
       "    <tr>\n",
       "      <th>3</th>\n",
       "      <td>7</td>\n",
       "      <td>00311002</td>\n",
       "      <td>RBS</td>\n",
       "      <td>311002</td>\n",
       "      <td>8.999992e+04</td>\n",
       "      <td>1199.999481</td>\n",
       "      <td>POLYGON ((6327712.131 2269613.884, 6327711.556 2269313.885, 6327411.557 2269314.460, 6327412.132...</td>\n",
       "    </tr>\n",
       "    <tr>\n",
       "      <th>4</th>\n",
       "      <td>7</td>\n",
       "      <td>00122004</td>\n",
       "      <td>RBS</td>\n",
       "      <td>122004</td>\n",
       "      <td>5.883542e+03</td>\n",
       "      <td>345.589356</td>\n",
       "      <td>POLYGON ((6297201.970 2270474.186, 6297221.966 2270427.712, 6297153.412 2270421.875, 6297143.160...</td>\n",
       "    </tr>\n",
       "  </tbody>\n",
       "</table>\n",
       "</div>"
      ],
      "text/plain": [
       "   POLY_CODE   APN_CHR ACC_CODE     APN    SHAPE_AREA     SHAPE_LEN  \\\n",
       "0          7  00317053      RBS  317053  6.235886e+05   3947.169746   \n",
       "1          7  00309032      RBS  309032  4.511820e+06  12130.003233   \n",
       "2          7  00319003      RBS  319003  2.834361e+06  11981.865339   \n",
       "3          7  00311002      RBS  311002  8.999992e+04   1199.999481   \n",
       "4          7  00122004      RBS  122004  5.883542e+03    345.589356   \n",
       "\n",
       "                                                                                              geometry  \n",
       "0  POLYGON ((6324484.990 2257661.982, 6323351.229 2257666.929, 6323145.850 2257887.648, 6322825.913...  \n",
       "1  POLYGON ((6323570.342 2261775.239, 6323579.853 2260269.799, 6323580.121 2260239.178, 6323589.839...  \n",
       "2  POLYGON ((6309489.680 2264582.144, 6314914.945 2264644.100, 6314916.863 2264622.641, 6314915.060...  \n",
       "3  POLYGON ((6327712.131 2269613.884, 6327711.556 2269313.885, 6327411.557 2269314.460, 6327412.132...  \n",
       "4  POLYGON ((6297201.970 2270474.186, 6297221.966 2270427.712, 6297153.412 2270421.875, 6297143.160...  "
      ]
     },
     "execution_count": 14,
     "metadata": {},
     "output_type": "execute_result"
    }
   ],
   "source": [
    "gdf_temp.head()"
   ]
  }
 ],
 "metadata": {
  "kernelspec": {
   "display_name": "Python 3",
   "language": "python",
   "name": "python3"
  },
  "language_info": {
   "codemirror_mode": {
    "name": "ipython",
    "version": 3
   },
   "file_extension": ".py",
   "mimetype": "text/x-python",
   "name": "python",
   "nbconvert_exporter": "python",
   "pygments_lexer": "ipython3",
   "version": "3.7.7"
  }
 },
 "nbformat": 4,
 "nbformat_minor": 4
}
