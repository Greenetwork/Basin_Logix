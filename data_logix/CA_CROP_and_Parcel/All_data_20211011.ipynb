{
 "cells": [
  {
   "cell_type": "markdown",
   "metadata": {},
   "source": [
    "# Data Creation for BLX DB\n",
    "#### October 2021\n",
    "\n",
    "Combine crop data, parcel data, GSA data, and Bulletin 118 data to apply: APNs, basins, GSAs to crop polygons"
   ]
  },
  {
   "cell_type": "code",
   "execution_count": 1,
   "metadata": {},
   "outputs": [],
   "source": [
    "import fiona\n",
    "import os\n",
    "import geopandas as gpd\n",
    "import pandas as pd"
   ]
  },
  {
   "cell_type": "code",
   "execution_count": 2,
   "metadata": {},
   "outputs": [
    {
     "name": "stdout",
     "output_type": "stream",
     "text": [
      "/home/watermaster/Projects/BLX/GIS/Dream_DB\n"
     ]
    }
   ],
   "source": [
    "!pwd"
   ]
  },
  {
   "cell_type": "code",
   "execution_count": 3,
   "metadata": {},
   "outputs": [
    {
     "data": {
      "text/plain": [
       "['i15_Crop_Mapping_2018']"
      ]
     },
     "execution_count": 3,
     "metadata": {},
     "output_type": "execute_result"
    }
   ],
   "source": [
    "fiona.listlayers('./raw_data/i15_crop_mapping_2018_gdb/i15_crop_mapping_2018.gdb')"
   ]
  },
  {
   "cell_type": "code",
   "execution_count": 4,
   "metadata": {},
   "outputs": [
    {
     "data": {
      "text/plain": [
       "['CA_PARCELS_STATEWIDE_INFO', 'CA_PARCELS_STATEWIDE']"
      ]
     },
     "execution_count": 4,
     "metadata": {},
     "output_type": "execute_result"
    }
   ],
   "source": [
    "fiona.listlayers('./raw_data/Parcels_CA_2014.gdb/')"
   ]
  },
  {
   "cell_type": "code",
   "execution_count": 5,
   "metadata": {},
   "outputs": [
    {
     "data": {
      "text/plain": [
       "['CA_Counties_TIGER2016']"
      ]
     },
     "execution_count": 5,
     "metadata": {},
     "output_type": "execute_result"
    }
   ],
   "source": [
    "fiona.listlayers('./raw_data/ca-county-boundaries/CA_Counties/CA_Counties_TIGER2016.dbf')"
   ]
  },
  {
   "cell_type": "code",
   "execution_count": 6,
   "metadata": {},
   "outputs": [
    {
     "data": {
      "text/plain": [
       "['i08_B118_v6_1']"
      ]
     },
     "execution_count": 6,
     "metadata": {},
     "output_type": "execute_result"
    }
   ],
   "source": [
    "fiona.listlayers('./raw_data/B118_2018_GISdata/Geodatabase/B118_v6-1.gdb')"
   ]
  },
  {
   "cell_type": "code",
   "execution_count": 7,
   "metadata": {},
   "outputs": [
    {
     "data": {
      "text/plain": [
       "['GSA_Master']"
      ]
     },
     "execution_count": 7,
     "metadata": {},
     "output_type": "execute_result"
    }
   ],
   "source": [
    "fiona.listlayers('./raw_data/submittedgsa/GSA_Master.dbf')"
   ]
  },
  {
   "cell_type": "markdown",
   "metadata": {},
   "source": [
    "## Load in county data to use a mask to chunk other data by individual county. "
   ]
  },
  {
   "cell_type": "code",
   "execution_count": 8,
   "metadata": {},
   "outputs": [],
   "source": [
    "gdf_counties = gpd.read_file('./raw_data/ca-county-boundaries/CA_Counties/CA_Counties_TIGER2016.dbf',\n",
    "                    driver='FileGDB',\n",
    "                    layer='CA_Counties_TIGER2016')\n",
    "gdf_counties = gdf_counties.to_crs(3310)"
   ]
  },
  {
   "cell_type": "code",
   "execution_count": 9,
   "metadata": {},
   "outputs": [],
   "source": [
    "gdf_kern_county = gdf_counties.loc[gdf_counties['NAME']=='Kern']"
   ]
  },
  {
   "cell_type": "code",
   "execution_count": 10,
   "metadata": {},
   "outputs": [],
   "source": [
    "# gdf_kern_county.crs\n",
    "# gdf_kern_county.plot()"
   ]
  },
  {
   "cell_type": "markdown",
   "metadata": {},
   "source": [
    "## Load in crop data"
   ]
  },
  {
   "cell_type": "code",
   "execution_count": 11,
   "metadata": {},
   "outputs": [],
   "source": [
    "gdf_crop = gpd.read_file('./raw_data/i15_crop_mapping_2018_gdb/i15_crop_mapping_2018.gdb',\n",
    "                    driver='FileGDB',\n",
    "                    layer='i15_Crop_Mapping_2018',\n",
    "                    mask = gdf_kern_county)\n",
    "gdf_crop = gdf_crop.to_crs(3310)"
   ]
  },
  {
   "cell_type": "code",
   "execution_count": 12,
   "metadata": {},
   "outputs": [],
   "source": [
    "# gdf_crop.crs\n",
    "# gdf_crop.plot()\n",
    "# gdf_crop.columns"
   ]
  },
  {
   "cell_type": "markdown",
   "metadata": {},
   "source": [
    "## Load in parcel data"
   ]
  },
  {
   "cell_type": "code",
   "execution_count": 13,
   "metadata": {},
   "outputs": [],
   "source": [
    "gdf_apn = gpd.read_file('./raw_data/Parcels_CA_2014.gdb/',\n",
    "                        driver='FileGDB',\n",
    "                        layer='CA_PARCELS_STATEWIDE',\n",
    "                        mask = gdf_kern_county)\n",
    "gdf_apn = gdf_apn.to_crs(3310)"
   ]
  },
  {
   "cell_type": "code",
   "execution_count": 14,
   "metadata": {},
   "outputs": [],
   "source": [
    "# gdf_apn.crs\n",
    "# gdf_apn.plot()\n",
    "# gdf_crop.sindex.valid_query_predicates\n",
    "# gdf_apn.sindex.valid_query_predicates\n",
    "# gdf_apn.columns"
   ]
  },
  {
   "cell_type": "markdown",
   "metadata": {},
   "source": [
    "### __gdf_combo__\n",
    "(spatial intersectional join of __gdf_crop__ with __gdf_apn__)  "
   ]
  },
  {
   "cell_type": "code",
   "execution_count": 19,
   "metadata": {},
   "outputs": [],
   "source": [
    "gdf_combo = gpd.sjoin(gdf_crop, gdf_apn, how = 'inner', op = 'intersects')"
   ]
  },
  {
   "cell_type": "code",
   "execution_count": 20,
   "metadata": {},
   "outputs": [],
   "source": [
    "# gdf_combo.columns\n",
    "# gdf_combo.loc[gdf_combo['UniqueID'] == '1509614'].T#.plot() # test crop row"
   ]
  },
  {
   "cell_type": "markdown",
   "metadata": {},
   "source": [
    "### __gdf_over_max__ \n",
    "(selection of the maximum spatial overlap of __gdf_crop__ with __gdf_apn__,   \n",
    "practically translates to each __gdf_crop__ row (`uniqueID` is good identifier) being associated with the __gdf_apn__ row (`PARNO` is good identifier) that has the maximum spatial overlap)"
   ]
  },
  {
   "cell_type": "code",
   "execution_count": 21,
   "metadata": {},
   "outputs": [],
   "source": [
    "gdf_over = gpd.overlay(gdf_crop, gdf_apn, how = 'intersection')\n",
    "gdf_over['area_overlap'] = gdf_over.geometry.area\n",
    "gdf_over_max = gdf_over.loc[gdf_over.groupby('UniqueID')['area_overlap'].agg(pd.Series.idxmax)][['UniqueID','PARNO','area_overlap']]"
   ]
  },
  {
   "cell_type": "markdown",
   "metadata": {},
   "source": [
    "### Merging\n",
    "__gdf_combo__ with __gdf_over_max__ "
   ]
  },
  {
   "cell_type": "code",
   "execution_count": 22,
   "metadata": {},
   "outputs": [],
   "source": [
    "gdf_combo_max_area = gdf_combo.merge(gdf_over_max, left_on = ['UniqueID','PARNO'], right_on = ['UniqueID','PARNO'])"
   ]
  },
  {
   "cell_type": "code",
   "execution_count": 23,
   "metadata": {},
   "outputs": [],
   "source": [
    "# gdf_combo_max_area.loc[gdf_combo_max_area['UniqueID'] == '1509614'] # test crop row"
   ]
  },
  {
   "cell_type": "code",
   "execution_count": 24,
   "metadata": {},
   "outputs": [
    {
     "data": {
      "text/plain": [
       "array(['X', 'T9', 'D14', 'P1', 'V', 'D1', 'F11', 'T6', 'T10', 'T30',\n",
       "       'T18', 'F16', 'YP', 'P6', 'G6', 'D10', 'C7', 'U', 'G2', 'C', 'D12',\n",
       "       'T19', 'D5', 'D15', 'F1', 'T31', 'T15', 'T21', 'P3', 'F10', 'T4',\n",
       "       'D3', 'T27', 'F2', 'T16', 'D13', 'D16', 'C6', 'C5', 'C4', 'T20'],\n",
       "      dtype=object)"
      ]
     },
     "execution_count": 24,
     "metadata": {},
     "output_type": "execute_result"
    }
   ],
   "source": [
    "gdf_combo_max_area.CROPTYP2.unique()"
   ]
  },
  {
   "cell_type": "markdown",
   "metadata": {},
   "source": [
    "## Add metadata"
   ]
  },
  {
   "cell_type": "code",
   "execution_count": 26,
   "metadata": {},
   "outputs": [
    {
     "name": "stderr",
     "output_type": "stream",
     "text": [
      "/home/watermaster/.local/lib/python3.7/site-packages/ipykernel_launcher.py:1: UserWarning: DataFrame columns are not unique, some columns will be omitted.\n",
      "  \"\"\"Entry point for launching an IPython kernel.\n"
     ]
    }
   ],
   "source": [
    "meta_data_dict = pd.read_excel('./crop_metadata.xlsx', sheet_name='formatted',header=None, names =['key', 'value']).set_index('key').T.to_dict('records')[0]"
   ]
  },
  {
   "cell_type": "code",
   "execution_count": 27,
   "metadata": {},
   "outputs": [
    {
     "data": {
      "text/plain": [
       "'Grain and hay crops'"
      ]
     },
     "execution_count": 27,
     "metadata": {},
     "output_type": "execute_result"
    }
   ],
   "source": [
    "meta_data_dict['G']"
   ]
  },
  {
   "cell_type": "code",
   "execution_count": 28,
   "metadata": {},
   "outputs": [],
   "source": [
    "gdf_combo_max_area['crop2018'] = gdf_combo_max_area['CROPTYP2'].map(meta_data_dict)"
   ]
  },
  {
   "cell_type": "code",
   "execution_count": 117,
   "metadata": {},
   "outputs": [],
   "source": [
    "# gdf_combo_max_area.head().T"
   ]
  },
  {
   "cell_type": "markdown",
   "metadata": {
    "tags": []
   },
   "source": [
    "## Load in GSA data"
   ]
  },
  {
   "cell_type": "code",
   "execution_count": 15,
   "metadata": {},
   "outputs": [],
   "source": [
    "gdf_gsa = gpd.read_file('./raw_data/submittedgsa/',\n",
    "                        driver='FileGDB',\n",
    "                        layer='GSA_Master',\n",
    "                        mask = gdf_kern_county)\n",
    "gdf_gsa = gdf_gsa.to_crs(3310)"
   ]
  },
  {
   "cell_type": "code",
   "execution_count": 16,
   "metadata": {},
   "outputs": [
    {
     "data": {
      "text/plain": [
       "Index(['GSA_ID', 'DWR_GSA_ID', 'GSA_Name', 'Basin', 'Local_ID', 'Posted_DT',\n",
       "       'GSA_URL', 'POC_Name', 'POC_Phone', 'POC_Email', '90_Days', 'geometry'],\n",
       "      dtype='object')"
      ]
     },
     "execution_count": 16,
     "metadata": {},
     "output_type": "execute_result"
    }
   ],
   "source": [
    "# gdf_apn.crs\n",
    "# gdf_apn.plot()\n",
    "# gdf_crop.sindex.valid_query_predicates\n",
    "# gdf_apn.sindex.valid_query_predicates\n",
    "gdf_gsa.columns"
   ]
  },
  {
   "cell_type": "markdown",
   "metadata": {},
   "source": [
    "## Load in Bulletin 118 basin data"
   ]
  },
  {
   "cell_type": "code",
   "execution_count": 17,
   "metadata": {},
   "outputs": [],
   "source": [
    "gdf_118 = gpd.read_file('./raw_data/B118_2018_GISdata/Geodatabase/B118_v6-1.gdb',\n",
    "                        driver='FileGDB',\n",
    "                        layer='i08_B118_v6_1',\n",
    "                        mask = gdf_kern_county)\n",
    "gdf_118 = gdf_118.to_crs(3310)"
   ]
  },
  {
   "cell_type": "code",
   "execution_count": 39,
   "metadata": {},
   "outputs": [
    {
     "data": {
      "text/plain": [
       "Index(['Basin_Number', 'Basin_Subbasin_Number', 'Basin_Name',\n",
       "       'Basin_Subbasin_Name', 'Region_Office', 'Date_Record_Last_Edited',\n",
       "       'Record_Edited_By', 'Comments', 'Date_Data_Applies_To', 'GlobalID',\n",
       "       'SHAPE_Length', 'SHAPE_Area', 'geometry'],\n",
       "      dtype='object')"
      ]
     },
     "execution_count": 39,
     "metadata": {},
     "output_type": "execute_result"
    }
   ],
   "source": [
    "# gdf_apn.crs\n",
    "# gdf_apn.plot()\n",
    "# gdf_crop.sindex.valid_query_predicates\n",
    "# gdf_apn.sindex.valid_query_predicates\n",
    "gdf_118.columns"
   ]
  },
  {
   "cell_type": "code",
   "execution_count": 63,
   "metadata": {},
   "outputs": [],
   "source": [
    "basins_df = gdf_118[['Basin_Subbasin_Number', 'Basin_Name','Basin_Subbasin_Name', 'Region_Office']]"
   ]
  },
  {
   "cell_type": "code",
   "execution_count": 81,
   "metadata": {},
   "outputs": [
    {
     "name": "stderr",
     "output_type": "stream",
     "text": [
      "/home/watermaster/.local/lib/python3.7/site-packages/ipykernel_launcher.py:1: FutureWarning: The default value of regex will change from True to False in a future version.\n",
      "  \"\"\"Entry point for launching an IPython kernel.\n"
     ]
    }
   ],
   "source": [
    "gdf_gsa['Basin_Subbasin_Number'] = gdf_gsa['Basin'].str.replace(' \\(Exclusive\\)','')"
   ]
  },
  {
   "cell_type": "code",
   "execution_count": 94,
   "metadata": {},
   "outputs": [],
   "source": [
    "gdf_SGMA_basins = gdf_gsa.merge(basins_df, on = 'Basin_Subbasin_Number')"
   ]
  },
  {
   "cell_type": "code",
   "execution_count": 118,
   "metadata": {},
   "outputs": [],
   "source": [
    "# gdf_SGMA_basins.T#['Basin'].str.replace('\\(Exclusive\\)','')"
   ]
  },
  {
   "cell_type": "code",
   "execution_count": 104,
   "metadata": {},
   "outputs": [],
   "source": [
    "gdf_combo_SGMA = gpd.sjoin(gdf_combo_max_area.drop('index_right', axis=1), gdf_SGMA_basins, how = 'inner', op = 'intersects')"
   ]
  },
  {
   "cell_type": "code",
   "execution_count": 105,
   "metadata": {},
   "outputs": [
    {
     "data": {
      "text/plain": [
       "Index(['UniqueID', 'DWR_REVISE', 'SYMB_CLASS', 'MULTIUSE', 'CLASS1',\n",
       "       'SUBCLASS1', 'SPECOND1', 'IRR_TYP1PA', 'IRR_TYP1PB', 'PCNT1', 'CLASS2',\n",
       "       'SUBCLASS2', 'SPECOND2', 'IRR_TYP2PA', 'IRR_TYP2PB', 'PCNT2', 'CLASS3',\n",
       "       'SUBCLASS3', 'SPECOND3', 'IRR_TYP3PA', 'IRR_TYP3PB', 'PCNT3', 'CLASS4',\n",
       "       'SUBCLASS4', 'SPECOND4', 'IRR_TYP4PA', 'IRR_TYP4PB', 'PCNT4', 'UCF_ATT',\n",
       "       'CROPTYP1', 'ADOY1', 'CROPTYP2', 'ADOY2', 'CROPTYP3', 'ADOY3',\n",
       "       'CROPTYP4', 'ADOY4', 'REGION', 'ACRES', 'COUNTY', 'LIQ_REPORT',\n",
       "       'Shape_Length_left', 'Shape_Area_left', 'geometry', 'PARNO', 'County',\n",
       "       'ADDRESS', 'CITY', 'ZIP', 'Shape_Length_right', 'Shape_Area_right',\n",
       "       'area_overlap', 'crop2018', 'index_right', 'GSA_ID', 'DWR_GSA_ID',\n",
       "       'GSA_Name', 'Basin', 'Local_ID', 'Posted_DT', 'GSA_URL', 'POC_Name',\n",
       "       'POC_Phone', 'POC_Email', '90_Days', 'Basin_Subbasin_Number',\n",
       "       'Basin_Name', 'Basin_Subbasin_Name', 'Region_Office'],\n",
       "      dtype='object')"
      ]
     },
     "execution_count": 105,
     "metadata": {},
     "output_type": "execute_result"
    }
   ],
   "source": [
    "gdf_combo_SGMA.columns#head().T"
   ]
  },
  {
   "cell_type": "code",
   "execution_count": 116,
   "metadata": {},
   "outputs": [
    {
     "data": {
      "text/html": [
       "<div>\n",
       "<style scoped>\n",
       "    .dataframe tbody tr th:only-of-type {\n",
       "        vertical-align: middle;\n",
       "    }\n",
       "\n",
       "    .dataframe tbody tr th {\n",
       "        vertical-align: top;\n",
       "    }\n",
       "\n",
       "    .dataframe thead th {\n",
       "        text-align: right;\n",
       "    }\n",
       "</style>\n",
       "<table border=\"1\" class=\"dataframe\">\n",
       "  <thead>\n",
       "    <tr style=\"text-align: right;\">\n",
       "      <th></th>\n",
       "      <th>2</th>\n",
       "      <th>3</th>\n",
       "      <th>45</th>\n",
       "      <th>46</th>\n",
       "      <th>73</th>\n",
       "      <th>74</th>\n",
       "      <th>75</th>\n",
       "      <th>76</th>\n",
       "      <th>77</th>\n",
       "      <th>78</th>\n",
       "      <th>...</th>\n",
       "      <th>8656</th>\n",
       "      <th>8658</th>\n",
       "      <th>8659</th>\n",
       "      <th>8660</th>\n",
       "      <th>9189</th>\n",
       "      <th>10523</th>\n",
       "      <th>20679</th>\n",
       "      <th>20680</th>\n",
       "      <th>20681</th>\n",
       "      <th>20717</th>\n",
       "    </tr>\n",
       "  </thead>\n",
       "  <tbody>\n",
       "    <tr>\n",
       "      <th>UniqueID</th>\n",
       "      <td>1512576</td>\n",
       "      <td>1515669</td>\n",
       "      <td>1518246</td>\n",
       "      <td>1500069</td>\n",
       "      <td>1500381</td>\n",
       "      <td>1501087</td>\n",
       "      <td>1509510</td>\n",
       "      <td>1512938</td>\n",
       "      <td>1514175</td>\n",
       "      <td>1502893</td>\n",
       "      <td>...</td>\n",
       "      <td>1503174</td>\n",
       "      <td>1502860</td>\n",
       "      <td>1502859</td>\n",
       "      <td>1502858</td>\n",
       "      <td>1518674</td>\n",
       "      <td>1520264</td>\n",
       "      <td>6000904</td>\n",
       "      <td>6000906</td>\n",
       "      <td>6000907</td>\n",
       "      <td>5419704</td>\n",
       "    </tr>\n",
       "    <tr>\n",
       "      <th>geometry</th>\n",
       "      <td>(POLYGON Z ((196394.2325934503 -254149.6547569...</td>\n",
       "      <td>(POLYGON Z ((196356.2806880391 -254184.5322515...</td>\n",
       "      <td>(POLYGON Z ((196143.7768861336 -254686.9234781...</td>\n",
       "      <td>(POLYGON Z ((196143.7768861336 -254686.9234781...</td>\n",
       "      <td>(POLYGON Z ((200030.5898800215 -266994.2565698...</td>\n",
       "      <td>(POLYGON Z ((200237.6536688873 -267123.1117529...</td>\n",
       "      <td>(POLYGON Z ((199849.9552417842 -267217.4845524...</td>\n",
       "      <td>(POLYGON Z ((200245.9009661526 -267045.1894938...</td>\n",
       "      <td>(POLYGON Z ((200049.5893713578 -267210.3829931...</td>\n",
       "      <td>(POLYGON Z ((200427.6294562493 -266962.4169548...</td>\n",
       "      <td>...</td>\n",
       "      <td>(POLYGON Z ((104978.2933755068 -352412.2874137...</td>\n",
       "      <td>(POLYGON Z ((105292.029056878 -352178.77142398...</td>\n",
       "      <td>(POLYGON Z ((105249.58296029 -352197.004352957...</td>\n",
       "      <td>(POLYGON Z ((105239.7813719653 -352194.4602828...</td>\n",
       "      <td>(POLYGON Z ((104084.9982403273 -353016.3007215...</td>\n",
       "      <td>(POLYGON Z ((104344.0350112696 -353310.7596693...</td>\n",
       "      <td>(POLYGON Z ((102349.8458877693 -353802.3695916...</td>\n",
       "      <td>(POLYGON Z ((103306.4487640464 -351737.8218081...</td>\n",
       "      <td>(POLYGON Z ((102379.1370728991 -350225.5724244...</td>\n",
       "      <td>(POLYGON Z ((48328.00548791623 -246826.3523456...</td>\n",
       "    </tr>\n",
       "    <tr>\n",
       "      <th>PARNO</th>\n",
       "      <td>35236004</td>\n",
       "      <td>35236002</td>\n",
       "      <td>35236015</td>\n",
       "      <td>35236015</td>\n",
       "      <td>34110134</td>\n",
       "      <td>34110134</td>\n",
       "      <td>34110134</td>\n",
       "      <td>34110134</td>\n",
       "      <td>34110134</td>\n",
       "      <td>34110134</td>\n",
       "      <td>...</td>\n",
       "      <td>25518218</td>\n",
       "      <td>25518218</td>\n",
       "      <td>25518218</td>\n",
       "      <td>25518218</td>\n",
       "      <td>25529024</td>\n",
       "      <td>25518217</td>\n",
       "      <td>25562048</td>\n",
       "      <td>25518216</td>\n",
       "      <td>25539001</td>\n",
       "      <td>330030006</td>\n",
       "    </tr>\n",
       "    <tr>\n",
       "      <th>County</th>\n",
       "      <td>Kern</td>\n",
       "      <td>Kern</td>\n",
       "      <td>Kern</td>\n",
       "      <td>Kern</td>\n",
       "      <td>Kern</td>\n",
       "      <td>Kern</td>\n",
       "      <td>Kern</td>\n",
       "      <td>Kern</td>\n",
       "      <td>Kern</td>\n",
       "      <td>Kern</td>\n",
       "      <td>...</td>\n",
       "      <td>Kern</td>\n",
       "      <td>Kern</td>\n",
       "      <td>Kern</td>\n",
       "      <td>Kern</td>\n",
       "      <td>Kern</td>\n",
       "      <td>Kern</td>\n",
       "      <td>Kern</td>\n",
       "      <td>Kern</td>\n",
       "      <td>Kern</td>\n",
       "      <td>Tulare</td>\n",
       "    </tr>\n",
       "    <tr>\n",
       "      <th>GSA_ID</th>\n",
       "      <td>35</td>\n",
       "      <td>35</td>\n",
       "      <td>35</td>\n",
       "      <td>35</td>\n",
       "      <td>35</td>\n",
       "      <td>35</td>\n",
       "      <td>35</td>\n",
       "      <td>35</td>\n",
       "      <td>35</td>\n",
       "      <td>35</td>\n",
       "      <td>...</td>\n",
       "      <td>400</td>\n",
       "      <td>400</td>\n",
       "      <td>400</td>\n",
       "      <td>400</td>\n",
       "      <td>400</td>\n",
       "      <td>400</td>\n",
       "      <td>400</td>\n",
       "      <td>400</td>\n",
       "      <td>400</td>\n",
       "      <td>490</td>\n",
       "    </tr>\n",
       "    <tr>\n",
       "      <th>DWR_GSA_ID</th>\n",
       "      <td>145</td>\n",
       "      <td>145</td>\n",
       "      <td>145</td>\n",
       "      <td>145</td>\n",
       "      <td>145</td>\n",
       "      <td>145</td>\n",
       "      <td>145</td>\n",
       "      <td>145</td>\n",
       "      <td>145</td>\n",
       "      <td>145</td>\n",
       "      <td>...</td>\n",
       "      <td>361</td>\n",
       "      <td>361</td>\n",
       "      <td>361</td>\n",
       "      <td>361</td>\n",
       "      <td>361</td>\n",
       "      <td>361</td>\n",
       "      <td>361</td>\n",
       "      <td>361</td>\n",
       "      <td>361</td>\n",
       "      <td>379</td>\n",
       "    </tr>\n",
       "    <tr>\n",
       "      <th>GSA_Name</th>\n",
       "      <td>Indian Wells Valley Groundwater Authority GSA</td>\n",
       "      <td>Indian Wells Valley Groundwater Authority GSA</td>\n",
       "      <td>Indian Wells Valley Groundwater Authority GSA</td>\n",
       "      <td>Indian Wells Valley Groundwater Authority GSA</td>\n",
       "      <td>Indian Wells Valley Groundwater Authority GSA</td>\n",
       "      <td>Indian Wells Valley Groundwater Authority GSA</td>\n",
       "      <td>Indian Wells Valley Groundwater Authority GSA</td>\n",
       "      <td>Indian Wells Valley Groundwater Authority GSA</td>\n",
       "      <td>Indian Wells Valley Groundwater Authority GSA</td>\n",
       "      <td>Indian Wells Valley Groundwater Authority GSA</td>\n",
       "      <td>...</td>\n",
       "      <td>Castac Basin GSA</td>\n",
       "      <td>Castac Basin GSA</td>\n",
       "      <td>Castac Basin GSA</td>\n",
       "      <td>Castac Basin GSA</td>\n",
       "      <td>Castac Basin GSA</td>\n",
       "      <td>Castac Basin GSA</td>\n",
       "      <td>Castac Basin GSA</td>\n",
       "      <td>Castac Basin GSA</td>\n",
       "      <td>Castac Basin GSA</td>\n",
       "      <td>Tri-County Water Authority GSA - Tule</td>\n",
       "    </tr>\n",
       "    <tr>\n",
       "      <th>Basin_Subbasin_Number</th>\n",
       "      <td>6-054</td>\n",
       "      <td>6-054</td>\n",
       "      <td>6-054</td>\n",
       "      <td>6-054</td>\n",
       "      <td>6-054</td>\n",
       "      <td>6-054</td>\n",
       "      <td>6-054</td>\n",
       "      <td>6-054</td>\n",
       "      <td>6-054</td>\n",
       "      <td>6-054</td>\n",
       "      <td>...</td>\n",
       "      <td>5-029</td>\n",
       "      <td>5-029</td>\n",
       "      <td>5-029</td>\n",
       "      <td>5-029</td>\n",
       "      <td>5-029</td>\n",
       "      <td>5-029</td>\n",
       "      <td>5-029</td>\n",
       "      <td>5-029</td>\n",
       "      <td>5-029</td>\n",
       "      <td>5-022.13</td>\n",
       "    </tr>\n",
       "    <tr>\n",
       "      <th>crop2018</th>\n",
       "      <td>Deciduous fruits and nuts; Pistachios</td>\n",
       "      <td>Deciduous fruits and nuts; Pistachios</td>\n",
       "      <td>Deciduous fruits and nuts; Pistachios</td>\n",
       "      <td>Deciduous fruits and nuts; Pistachios</td>\n",
       "      <td>Deciduous fruits and nuts; Pistachios</td>\n",
       "      <td>Deciduous fruits and nuts; Pistachios</td>\n",
       "      <td>Young Perennial; None</td>\n",
       "      <td>Deciduous fruits and nuts; Pistachios</td>\n",
       "      <td>Deciduous fruits and nuts; Pistachios</td>\n",
       "      <td>Deciduous fruits and nuts; Pistachios</td>\n",
       "      <td>...</td>\n",
       "      <td>Vineyards</td>\n",
       "      <td>Vineyards</td>\n",
       "      <td>Vineyards</td>\n",
       "      <td>Vineyards</td>\n",
       "      <td>Not cropped or unclassified; None</td>\n",
       "      <td>Not cropped or unclassified; None</td>\n",
       "      <td>Urban-residential, commercial, and industrial,...</td>\n",
       "      <td>Urban-residential, commercial, and industrial,...</td>\n",
       "      <td>Urban-residential, commercial, and industrial,...</td>\n",
       "      <td>Grain and hay crops; Wheat</td>\n",
       "    </tr>\n",
       "    <tr>\n",
       "      <th>REGION</th>\n",
       "      <td>SRO</td>\n",
       "      <td>SRO</td>\n",
       "      <td>SRO</td>\n",
       "      <td>SRO</td>\n",
       "      <td>SRO</td>\n",
       "      <td>SRO</td>\n",
       "      <td>SRO</td>\n",
       "      <td>SRO</td>\n",
       "      <td>SRO</td>\n",
       "      <td>SRO</td>\n",
       "      <td>...</td>\n",
       "      <td>SCRO</td>\n",
       "      <td>SCRO</td>\n",
       "      <td>SCRO</td>\n",
       "      <td>SCRO</td>\n",
       "      <td>SCRO</td>\n",
       "      <td>SCRO</td>\n",
       "      <td>SCRO</td>\n",
       "      <td>SCRO</td>\n",
       "      <td>SCRO</td>\n",
       "      <td>SCRO</td>\n",
       "    </tr>\n",
       "    <tr>\n",
       "      <th>ACRES</th>\n",
       "      <td>4.80295</td>\n",
       "      <td>0.91497</td>\n",
       "      <td>0.49847</td>\n",
       "      <td>0.4164</td>\n",
       "      <td>0.63734</td>\n",
       "      <td>23.76328</td>\n",
       "      <td>2.32599</td>\n",
       "      <td>7.00101</td>\n",
       "      <td>5.81323</td>\n",
       "      <td>1.02288</td>\n",
       "      <td>...</td>\n",
       "      <td>3.39516</td>\n",
       "      <td>0.94165</td>\n",
       "      <td>1.17559</td>\n",
       "      <td>1.28955</td>\n",
       "      <td>70.62079</td>\n",
       "      <td>103.52655</td>\n",
       "      <td>485.17425</td>\n",
       "      <td>76.28782</td>\n",
       "      <td>199.02955</td>\n",
       "      <td>152.31543</td>\n",
       "    </tr>\n",
       "  </tbody>\n",
       "</table>\n",
       "<p>11 rows × 20674 columns</p>\n",
       "</div>"
      ],
      "text/plain": [
       "                                                                   2      \\\n",
       "UniqueID                                                         1512576   \n",
       "geometry               (POLYGON Z ((196394.2325934503 -254149.6547569...   \n",
       "PARNO                                                           35236004   \n",
       "County                                                              Kern   \n",
       "GSA_ID                                                                35   \n",
       "DWR_GSA_ID                                                           145   \n",
       "GSA_Name                   Indian Wells Valley Groundwater Authority GSA   \n",
       "Basin_Subbasin_Number                                              6-054   \n",
       "crop2018                           Deciduous fruits and nuts; Pistachios   \n",
       "REGION                                                               SRO   \n",
       "ACRES                                                            4.80295   \n",
       "\n",
       "                                                                   3      \\\n",
       "UniqueID                                                         1515669   \n",
       "geometry               (POLYGON Z ((196356.2806880391 -254184.5322515...   \n",
       "PARNO                                                           35236002   \n",
       "County                                                              Kern   \n",
       "GSA_ID                                                                35   \n",
       "DWR_GSA_ID                                                           145   \n",
       "GSA_Name                   Indian Wells Valley Groundwater Authority GSA   \n",
       "Basin_Subbasin_Number                                              6-054   \n",
       "crop2018                           Deciduous fruits and nuts; Pistachios   \n",
       "REGION                                                               SRO   \n",
       "ACRES                                                            0.91497   \n",
       "\n",
       "                                                                   45     \\\n",
       "UniqueID                                                         1518246   \n",
       "geometry               (POLYGON Z ((196143.7768861336 -254686.9234781...   \n",
       "PARNO                                                           35236015   \n",
       "County                                                              Kern   \n",
       "GSA_ID                                                                35   \n",
       "DWR_GSA_ID                                                           145   \n",
       "GSA_Name                   Indian Wells Valley Groundwater Authority GSA   \n",
       "Basin_Subbasin_Number                                              6-054   \n",
       "crop2018                           Deciduous fruits and nuts; Pistachios   \n",
       "REGION                                                               SRO   \n",
       "ACRES                                                            0.49847   \n",
       "\n",
       "                                                                   46     \\\n",
       "UniqueID                                                         1500069   \n",
       "geometry               (POLYGON Z ((196143.7768861336 -254686.9234781...   \n",
       "PARNO                                                           35236015   \n",
       "County                                                              Kern   \n",
       "GSA_ID                                                                35   \n",
       "DWR_GSA_ID                                                           145   \n",
       "GSA_Name                   Indian Wells Valley Groundwater Authority GSA   \n",
       "Basin_Subbasin_Number                                              6-054   \n",
       "crop2018                           Deciduous fruits and nuts; Pistachios   \n",
       "REGION                                                               SRO   \n",
       "ACRES                                                             0.4164   \n",
       "\n",
       "                                                                   73     \\\n",
       "UniqueID                                                         1500381   \n",
       "geometry               (POLYGON Z ((200030.5898800215 -266994.2565698...   \n",
       "PARNO                                                           34110134   \n",
       "County                                                              Kern   \n",
       "GSA_ID                                                                35   \n",
       "DWR_GSA_ID                                                           145   \n",
       "GSA_Name                   Indian Wells Valley Groundwater Authority GSA   \n",
       "Basin_Subbasin_Number                                              6-054   \n",
       "crop2018                           Deciduous fruits and nuts; Pistachios   \n",
       "REGION                                                               SRO   \n",
       "ACRES                                                            0.63734   \n",
       "\n",
       "                                                                   74     \\\n",
       "UniqueID                                                         1501087   \n",
       "geometry               (POLYGON Z ((200237.6536688873 -267123.1117529...   \n",
       "PARNO                                                           34110134   \n",
       "County                                                              Kern   \n",
       "GSA_ID                                                                35   \n",
       "DWR_GSA_ID                                                           145   \n",
       "GSA_Name                   Indian Wells Valley Groundwater Authority GSA   \n",
       "Basin_Subbasin_Number                                              6-054   \n",
       "crop2018                           Deciduous fruits and nuts; Pistachios   \n",
       "REGION                                                               SRO   \n",
       "ACRES                                                           23.76328   \n",
       "\n",
       "                                                                   75     \\\n",
       "UniqueID                                                         1509510   \n",
       "geometry               (POLYGON Z ((199849.9552417842 -267217.4845524...   \n",
       "PARNO                                                           34110134   \n",
       "County                                                              Kern   \n",
       "GSA_ID                                                                35   \n",
       "DWR_GSA_ID                                                           145   \n",
       "GSA_Name                   Indian Wells Valley Groundwater Authority GSA   \n",
       "Basin_Subbasin_Number                                              6-054   \n",
       "crop2018                                           Young Perennial; None   \n",
       "REGION                                                               SRO   \n",
       "ACRES                                                            2.32599   \n",
       "\n",
       "                                                                   76     \\\n",
       "UniqueID                                                         1512938   \n",
       "geometry               (POLYGON Z ((200245.9009661526 -267045.1894938...   \n",
       "PARNO                                                           34110134   \n",
       "County                                                              Kern   \n",
       "GSA_ID                                                                35   \n",
       "DWR_GSA_ID                                                           145   \n",
       "GSA_Name                   Indian Wells Valley Groundwater Authority GSA   \n",
       "Basin_Subbasin_Number                                              6-054   \n",
       "crop2018                           Deciduous fruits and nuts; Pistachios   \n",
       "REGION                                                               SRO   \n",
       "ACRES                                                            7.00101   \n",
       "\n",
       "                                                                   77     \\\n",
       "UniqueID                                                         1514175   \n",
       "geometry               (POLYGON Z ((200049.5893713578 -267210.3829931...   \n",
       "PARNO                                                           34110134   \n",
       "County                                                              Kern   \n",
       "GSA_ID                                                                35   \n",
       "DWR_GSA_ID                                                           145   \n",
       "GSA_Name                   Indian Wells Valley Groundwater Authority GSA   \n",
       "Basin_Subbasin_Number                                              6-054   \n",
       "crop2018                           Deciduous fruits and nuts; Pistachios   \n",
       "REGION                                                               SRO   \n",
       "ACRES                                                            5.81323   \n",
       "\n",
       "                                                                   78     ...  \\\n",
       "UniqueID                                                         1502893  ...   \n",
       "geometry               (POLYGON Z ((200427.6294562493 -266962.4169548...  ...   \n",
       "PARNO                                                           34110134  ...   \n",
       "County                                                              Kern  ...   \n",
       "GSA_ID                                                                35  ...   \n",
       "DWR_GSA_ID                                                           145  ...   \n",
       "GSA_Name                   Indian Wells Valley Groundwater Authority GSA  ...   \n",
       "Basin_Subbasin_Number                                              6-054  ...   \n",
       "crop2018                           Deciduous fruits and nuts; Pistachios  ...   \n",
       "REGION                                                               SRO  ...   \n",
       "ACRES                                                            1.02288  ...   \n",
       "\n",
       "                                                                   8656   \\\n",
       "UniqueID                                                         1503174   \n",
       "geometry               (POLYGON Z ((104978.2933755068 -352412.2874137...   \n",
       "PARNO                                                           25518218   \n",
       "County                                                              Kern   \n",
       "GSA_ID                                                               400   \n",
       "DWR_GSA_ID                                                           361   \n",
       "GSA_Name                                                Castac Basin GSA   \n",
       "Basin_Subbasin_Number                                              5-029   \n",
       "crop2018                                                       Vineyards   \n",
       "REGION                                                              SCRO   \n",
       "ACRES                                                            3.39516   \n",
       "\n",
       "                                                                   8658   \\\n",
       "UniqueID                                                         1502860   \n",
       "geometry               (POLYGON Z ((105292.029056878 -352178.77142398...   \n",
       "PARNO                                                           25518218   \n",
       "County                                                              Kern   \n",
       "GSA_ID                                                               400   \n",
       "DWR_GSA_ID                                                           361   \n",
       "GSA_Name                                                Castac Basin GSA   \n",
       "Basin_Subbasin_Number                                              5-029   \n",
       "crop2018                                                       Vineyards   \n",
       "REGION                                                              SCRO   \n",
       "ACRES                                                            0.94165   \n",
       "\n",
       "                                                                   8659   \\\n",
       "UniqueID                                                         1502859   \n",
       "geometry               (POLYGON Z ((105249.58296029 -352197.004352957...   \n",
       "PARNO                                                           25518218   \n",
       "County                                                              Kern   \n",
       "GSA_ID                                                               400   \n",
       "DWR_GSA_ID                                                           361   \n",
       "GSA_Name                                                Castac Basin GSA   \n",
       "Basin_Subbasin_Number                                              5-029   \n",
       "crop2018                                                       Vineyards   \n",
       "REGION                                                              SCRO   \n",
       "ACRES                                                            1.17559   \n",
       "\n",
       "                                                                   8660   \\\n",
       "UniqueID                                                         1502858   \n",
       "geometry               (POLYGON Z ((105239.7813719653 -352194.4602828...   \n",
       "PARNO                                                           25518218   \n",
       "County                                                              Kern   \n",
       "GSA_ID                                                               400   \n",
       "DWR_GSA_ID                                                           361   \n",
       "GSA_Name                                                Castac Basin GSA   \n",
       "Basin_Subbasin_Number                                              5-029   \n",
       "crop2018                                                       Vineyards   \n",
       "REGION                                                              SCRO   \n",
       "ACRES                                                            1.28955   \n",
       "\n",
       "                                                                   9189   \\\n",
       "UniqueID                                                         1518674   \n",
       "geometry               (POLYGON Z ((104084.9982403273 -353016.3007215...   \n",
       "PARNO                                                           25529024   \n",
       "County                                                              Kern   \n",
       "GSA_ID                                                               400   \n",
       "DWR_GSA_ID                                                           361   \n",
       "GSA_Name                                                Castac Basin GSA   \n",
       "Basin_Subbasin_Number                                              5-029   \n",
       "crop2018                               Not cropped or unclassified; None   \n",
       "REGION                                                              SCRO   \n",
       "ACRES                                                           70.62079   \n",
       "\n",
       "                                                                   10523  \\\n",
       "UniqueID                                                         1520264   \n",
       "geometry               (POLYGON Z ((104344.0350112696 -353310.7596693...   \n",
       "PARNO                                                           25518217   \n",
       "County                                                              Kern   \n",
       "GSA_ID                                                               400   \n",
       "DWR_GSA_ID                                                           361   \n",
       "GSA_Name                                                Castac Basin GSA   \n",
       "Basin_Subbasin_Number                                              5-029   \n",
       "crop2018                               Not cropped or unclassified; None   \n",
       "REGION                                                              SCRO   \n",
       "ACRES                                                          103.52655   \n",
       "\n",
       "                                                                   20679  \\\n",
       "UniqueID                                                         6000904   \n",
       "geometry               (POLYGON Z ((102349.8458877693 -353802.3695916...   \n",
       "PARNO                                                           25562048   \n",
       "County                                                              Kern   \n",
       "GSA_ID                                                               400   \n",
       "DWR_GSA_ID                                                           361   \n",
       "GSA_Name                                                Castac Basin GSA   \n",
       "Basin_Subbasin_Number                                              5-029   \n",
       "crop2018               Urban-residential, commercial, and industrial,...   \n",
       "REGION                                                              SCRO   \n",
       "ACRES                                                          485.17425   \n",
       "\n",
       "                                                                   20680  \\\n",
       "UniqueID                                                         6000906   \n",
       "geometry               (POLYGON Z ((103306.4487640464 -351737.8218081...   \n",
       "PARNO                                                           25518216   \n",
       "County                                                              Kern   \n",
       "GSA_ID                                                               400   \n",
       "DWR_GSA_ID                                                           361   \n",
       "GSA_Name                                                Castac Basin GSA   \n",
       "Basin_Subbasin_Number                                              5-029   \n",
       "crop2018               Urban-residential, commercial, and industrial,...   \n",
       "REGION                                                              SCRO   \n",
       "ACRES                                                           76.28782   \n",
       "\n",
       "                                                                   20681  \\\n",
       "UniqueID                                                         6000907   \n",
       "geometry               (POLYGON Z ((102379.1370728991 -350225.5724244...   \n",
       "PARNO                                                           25539001   \n",
       "County                                                              Kern   \n",
       "GSA_ID                                                               400   \n",
       "DWR_GSA_ID                                                           361   \n",
       "GSA_Name                                                Castac Basin GSA   \n",
       "Basin_Subbasin_Number                                              5-029   \n",
       "crop2018               Urban-residential, commercial, and industrial,...   \n",
       "REGION                                                              SCRO   \n",
       "ACRES                                                          199.02955   \n",
       "\n",
       "                                                                   20717  \n",
       "UniqueID                                                         5419704  \n",
       "geometry               (POLYGON Z ((48328.00548791623 -246826.3523456...  \n",
       "PARNO                                                          330030006  \n",
       "County                                                            Tulare  \n",
       "GSA_ID                                                               490  \n",
       "DWR_GSA_ID                                                           379  \n",
       "GSA_Name                           Tri-County Water Authority GSA - Tule  \n",
       "Basin_Subbasin_Number                                           5-022.13  \n",
       "crop2018                                      Grain and hay crops; Wheat  \n",
       "REGION                                                              SCRO  \n",
       "ACRES                                                          152.31543  \n",
       "\n",
       "[11 rows x 20674 columns]"
      ]
     },
     "execution_count": 116,
     "metadata": {},
     "output_type": "execute_result"
    }
   ],
   "source": [
    "gdf_combo_SGMA[['UniqueID','geometry', 'PARNO', 'County','GSA_ID', 'DWR_GSA_ID', 'GSA_Name', 'Basin_Subbasin_Number', 'crop2018','REGION','ACRES']].T"
   ]
  },
  {
   "cell_type": "code",
   "execution_count": 114,
   "metadata": {},
   "outputs": [
    {
     "data": {
      "text/plain": [
       "array(['35236004', '35236002', '35236015', ..., '25518216', '25539001',\n",
       "       '330030006'], dtype=object)"
      ]
     },
     "execution_count": 114,
     "metadata": {},
     "output_type": "execute_result"
    }
   ],
   "source": [
    "gdf_combo_SGMA['PARNO'].unique()"
   ]
  },
  {
   "cell_type": "code",
   "execution_count": null,
   "metadata": {},
   "outputs": [],
   "source": []
  }
 ],
 "metadata": {
  "kernelspec": {
   "display_name": "Python 3",
   "language": "python",
   "name": "python3"
  },
  "language_info": {
   "codemirror_mode": {
    "name": "ipython",
    "version": 3
   },
   "file_extension": ".py",
   "mimetype": "text/x-python",
   "name": "python",
   "nbconvert_exporter": "python",
   "pygments_lexer": "ipython3",
   "version": "3.7.11"
  }
 },
 "nbformat": 4,
 "nbformat_minor": 4
}
