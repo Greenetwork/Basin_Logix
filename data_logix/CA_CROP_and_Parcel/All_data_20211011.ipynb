{
 "cells": [
  {
   "cell_type": "markdown",
   "metadata": {},
   "source": [
    "# Data Creation for BLX DB\n",
    "#### October 2021\n",
    "\n",
    "Combine crop data, parcel data, GSA data, and Bulletin 118 data to apply: APNs, basins, GSAs to crop polygons"
   ]
  },
  {
   "cell_type": "code",
   "execution_count": 1,
   "metadata": {},
   "outputs": [],
   "source": [
    "import fiona\n",
    "import os\n",
    "import geopandas as gpd\n",
    "import pandas as pd"
   ]
  },
  {
   "cell_type": "code",
   "execution_count": 2,
   "metadata": {},
   "outputs": [
    {
     "name": "stdout",
     "output_type": "stream",
     "text": [
      "/home/watermaster/Projects/BLX/GIS/Dream_DB\n"
     ]
    }
   ],
   "source": [
    "!pwd"
   ]
  },
  {
   "cell_type": "code",
   "execution_count": 3,
   "metadata": {},
   "outputs": [
    {
     "data": {
      "text/plain": [
       "['i15_Crop_Mapping_2018']"
      ]
     },
     "execution_count": 3,
     "metadata": {},
     "output_type": "execute_result"
    }
   ],
   "source": [
    "fiona.listlayers('./raw_data/i15_crop_mapping_2018_gdb/i15_crop_mapping_2018.gdb')"
   ]
  },
  {
   "cell_type": "code",
   "execution_count": 4,
   "metadata": {},
   "outputs": [
    {
     "data": {
      "text/plain": [
       "['CA_PARCELS_STATEWIDE_INFO', 'CA_PARCELS_STATEWIDE']"
      ]
     },
     "execution_count": 4,
     "metadata": {},
     "output_type": "execute_result"
    }
   ],
   "source": [
    "fiona.listlayers('./raw_data/Parcels_CA_2014.gdb/')"
   ]
  },
  {
   "cell_type": "code",
   "execution_count": 5,
   "metadata": {},
   "outputs": [
    {
     "data": {
      "text/plain": [
       "['CA_Counties_TIGER2016']"
      ]
     },
     "execution_count": 5,
     "metadata": {},
     "output_type": "execute_result"
    }
   ],
   "source": [
    "fiona.listlayers('./raw_data/ca-county-boundaries/CA_Counties/CA_Counties_TIGER2016.dbf')"
   ]
  },
  {
   "cell_type": "code",
   "execution_count": 6,
   "metadata": {},
   "outputs": [
    {
     "data": {
      "text/plain": [
       "['i08_B118_v6_1']"
      ]
     },
     "execution_count": 6,
     "metadata": {},
     "output_type": "execute_result"
    }
   ],
   "source": [
    "fiona.listlayers('./raw_data/B118_2018_GISdata/Geodatabase/B118_v6-1.gdb')"
   ]
  },
  {
   "cell_type": "code",
   "execution_count": 7,
   "metadata": {},
   "outputs": [
    {
     "data": {
      "text/plain": [
       "['GSA_Master']"
      ]
     },
     "execution_count": 7,
     "metadata": {},
     "output_type": "execute_result"
    }
   ],
   "source": [
    "fiona.listlayers('./raw_data/submittedgsa/GSA_Master.dbf')"
   ]
  },
  {
   "cell_type": "markdown",
   "metadata": {},
   "source": [
    "## Load in county data to use a mask to chunk other data by individual county. "
   ]
  },
  {
   "cell_type": "code",
   "execution_count": 8,
   "metadata": {},
   "outputs": [],
   "source": [
    "gdf_counties = gpd.read_file('./raw_data/ca-county-boundaries/CA_Counties/CA_Counties_TIGER2016.dbf',\n",
    "                    driver='FileGDB',\n",
    "                    layer='CA_Counties_TIGER2016')\n",
    "gdf_counties = gdf_counties.to_crs(3310)"
   ]
  },
  {
   "cell_type": "code",
   "execution_count": 9,
   "metadata": {},
   "outputs": [],
   "source": [
    "gdf_kern_county = gdf_counties.loc[gdf_counties['NAME']=='Kern']"
   ]
  },
  {
   "cell_type": "code",
   "execution_count": null,
   "metadata": {},
   "outputs": [],
   "source": []
  },
  {
   "cell_type": "code",
   "execution_count": 10,
   "metadata": {},
   "outputs": [],
   "source": [
    "# gdf_kern_county.crs\n",
    "# gdf_kern_county.plot()"
   ]
  },
  {
   "cell_type": "markdown",
   "metadata": {},
   "source": [
    "## Load in crop data"
   ]
  },
  {
   "cell_type": "code",
   "execution_count": 146,
   "metadata": {},
   "outputs": [],
   "source": [
    "gdf_crop = gpd.read_file('./raw_data/i15_crop_mapping_2018_gdb/i15_crop_mapping_2018.gdb',\n",
    "                    driver='FileGDB',\n",
    "                    layer='i15_Crop_Mapping_2018',\n",
    "                    mask = gdf_kern_county)\n",
    "gdf_crop = gdf_crop.to_crs(3310)"
   ]
  },
  {
   "cell_type": "code",
   "execution_count": 12,
   "metadata": {},
   "outputs": [],
   "source": [
    "# gdf_crop.crs\n",
    "# gdf_crop.plot()\n",
    "# gdf_crop.columns"
   ]
  },
  {
   "cell_type": "markdown",
   "metadata": {},
   "source": [
    "## Load in parcel data"
   ]
  },
  {
   "cell_type": "code",
   "execution_count": 13,
   "metadata": {},
   "outputs": [],
   "source": [
    "gdf_apn = gpd.read_file('./raw_data/Parcels_CA_2014.gdb/',\n",
    "                        driver='FileGDB',\n",
    "                        layer='CA_PARCELS_STATEWIDE',\n",
    "                        mask = gdf_kern_county)\n",
    "gdf_apn = gdf_apn.to_crs(3310)"
   ]
  },
  {
   "cell_type": "code",
   "execution_count": 14,
   "metadata": {},
   "outputs": [],
   "source": [
    "# gdf_apn.crs\n",
    "# gdf_apn.plot()\n",
    "# gdf_crop.sindex.valid_query_predicates\n",
    "# gdf_apn.sindex.valid_query_predicates\n",
    "# gdf_apn.columns"
   ]
  },
  {
   "cell_type": "markdown",
   "metadata": {},
   "source": [
    "### __gdf_combo__\n",
    "(spatial intersectional join of __gdf_crop__ with __gdf_apn__)  "
   ]
  },
  {
   "cell_type": "code",
   "execution_count": 19,
   "metadata": {},
   "outputs": [],
   "source": [
    "gdf_combo = gpd.sjoin(gdf_crop, gdf_apn, how = 'inner', op = 'intersects')"
   ]
  },
  {
   "cell_type": "code",
   "execution_count": 20,
   "metadata": {},
   "outputs": [],
   "source": [
    "# gdf_combo.columns\n",
    "# gdf_combo.loc[gdf_combo['UniqueID'] == '1509614'].T#.plot() # test crop row"
   ]
  },
  {
   "cell_type": "code",
   "execution_count": 143,
   "metadata": {},
   "outputs": [
    {
     "data": {
      "text/plain": [
       "0         MULTIPOLYGON Z (((88732.232 -291253.638 0.000,...\n",
       "1         MULTIPOLYGON Z (((88609.535 -291388.489 0.000,...\n",
       "2         MULTIPOLYGON Z (((88690.503 -291353.672 0.000,...\n",
       "3         MULTIPOLYGON Z (((88895.635 -291531.530 0.000,...\n",
       "4         MULTIPOLYGON Z (((88860.618 -291350.298 0.000,...\n",
       "                                ...                        \n",
       "401270    MULTIPOLYGON Z (((77446.007 -355552.272 0.000,...\n",
       "401271    MULTIPOLYGON Z (((67607.874 -350889.851 0.000,...\n",
       "401272    MULTIPOLYGON Z (((69245.274 -353906.193 0.000,...\n",
       "401273    MULTIPOLYGON Z (((72561.889 -356393.298 0.000,...\n",
       "401274    MULTIPOLYGON Z (((77279.250 -355556.274 0.000,...\n",
       "Name: geometry, Length: 401275, dtype: geometry"
      ]
     },
     "execution_count": 143,
     "metadata": {},
     "output_type": "execute_result"
    }
   ],
   "source": [
    "gdf_apn.geometry"
   ]
  },
  {
   "cell_type": "markdown",
   "metadata": {},
   "source": [
    "### __gdf_over_max__ \n",
    "(selection of the maximum spatial overlap of __gdf_crop__ with __gdf_apn__,   \n",
    "practically translates to each __gdf_crop__ row (`uniqueID` is good identifier) being associated with the __gdf_apn__ row (`PARNO` is good identifier) that has the maximum spatial overlap)"
   ]
  },
  {
   "cell_type": "code",
   "execution_count": 21,
   "metadata": {},
   "outputs": [],
   "source": [
    "gdf_over = gpd.overlay(gdf_crop, gdf_apn, how = 'intersection')\n",
    "gdf_over['area_overlap'] = gdf_over.geometry.area\n",
    "gdf_over_max = gdf_over.loc[gdf_over.groupby('UniqueID')['area_overlap'].agg(pd.Series.idxmax)][['UniqueID','PARNO','area_overlap']]"
   ]
  },
  {
   "cell_type": "markdown",
   "metadata": {},
   "source": [
    "### Merging\n",
    "__gdf_combo__ with __gdf_over_max__ "
   ]
  },
  {
   "cell_type": "code",
   "execution_count": 22,
   "metadata": {},
   "outputs": [],
   "source": [
    "gdf_combo_max_area = gdf_combo.merge(gdf_over_max, left_on = ['UniqueID','PARNO'], right_on = ['UniqueID','PARNO'])"
   ]
  },
  {
   "cell_type": "code",
   "execution_count": 23,
   "metadata": {},
   "outputs": [],
   "source": [
    "# gdf_combo_max_area.loc[gdf_combo_max_area['UniqueID'] == '1509614'] # test crop row"
   ]
  },
  {
   "cell_type": "code",
   "execution_count": 24,
   "metadata": {},
   "outputs": [
    {
     "data": {
      "text/plain": [
       "array(['X', 'T9', 'D14', 'P1', 'V', 'D1', 'F11', 'T6', 'T10', 'T30',\n",
       "       'T18', 'F16', 'YP', 'P6', 'G6', 'D10', 'C7', 'U', 'G2', 'C', 'D12',\n",
       "       'T19', 'D5', 'D15', 'F1', 'T31', 'T15', 'T21', 'P3', 'F10', 'T4',\n",
       "       'D3', 'T27', 'F2', 'T16', 'D13', 'D16', 'C6', 'C5', 'C4', 'T20'],\n",
       "      dtype=object)"
      ]
     },
     "execution_count": 24,
     "metadata": {},
     "output_type": "execute_result"
    }
   ],
   "source": [
    "gdf_combo_max_area.CROPTYP2.unique()"
   ]
  },
  {
   "cell_type": "markdown",
   "metadata": {},
   "source": [
    "## Add metadata"
   ]
  },
  {
   "cell_type": "code",
   "execution_count": 26,
   "metadata": {},
   "outputs": [
    {
     "name": "stderr",
     "output_type": "stream",
     "text": [
      "/home/watermaster/.local/lib/python3.7/site-packages/ipykernel_launcher.py:1: UserWarning: DataFrame columns are not unique, some columns will be omitted.\n",
      "  \"\"\"Entry point for launching an IPython kernel.\n"
     ]
    }
   ],
   "source": [
    "meta_data_dict = pd.read_excel('./crop_metadata.xlsx', sheet_name='formatted',header=None, names =['key', 'value']).set_index('key').T.to_dict('records')[0]"
   ]
  },
  {
   "cell_type": "code",
   "execution_count": 126,
   "metadata": {},
   "outputs": [
    {
     "data": {
      "text/plain": [
       "'Grain and hay crops'"
      ]
     },
     "execution_count": 126,
     "metadata": {},
     "output_type": "execute_result"
    }
   ],
   "source": [
    "meta_data_dict['G']"
   ]
  },
  {
   "cell_type": "code",
   "execution_count": 28,
   "metadata": {},
   "outputs": [],
   "source": [
    "gdf_combo_max_area['crop2018'] = gdf_combo_max_area['CROPTYP2'].map(meta_data_dict)"
   ]
  },
  {
   "cell_type": "code",
   "execution_count": 117,
   "metadata": {},
   "outputs": [],
   "source": [
    "# gdf_combo_max_area.head().T"
   ]
  },
  {
   "cell_type": "markdown",
   "metadata": {
    "tags": []
   },
   "source": [
    "## Load in GSA data"
   ]
  },
  {
   "cell_type": "code",
   "execution_count": 15,
   "metadata": {},
   "outputs": [],
   "source": [
    "gdf_gsa = gpd.read_file('./raw_data/submittedgsa/',\n",
    "                        driver='FileGDB',\n",
    "                        layer='GSA_Master',\n",
    "                        mask = gdf_kern_county)\n",
    "gdf_gsa = gdf_gsa.to_crs(3310)"
   ]
  },
  {
   "cell_type": "code",
   "execution_count": 16,
   "metadata": {},
   "outputs": [
    {
     "data": {
      "text/plain": [
       "Index(['GSA_ID', 'DWR_GSA_ID', 'GSA_Name', 'Basin', 'Local_ID', 'Posted_DT',\n",
       "       'GSA_URL', 'POC_Name', 'POC_Phone', 'POC_Email', '90_Days', 'geometry'],\n",
       "      dtype='object')"
      ]
     },
     "execution_count": 16,
     "metadata": {},
     "output_type": "execute_result"
    }
   ],
   "source": [
    "# gdf_apn.crs\n",
    "# gdf_apn.plot()\n",
    "# gdf_crop.sindex.valid_query_predicates\n",
    "# gdf_apn.sindex.valid_query_predicates\n",
    "gdf_gsa.columns"
   ]
  },
  {
   "cell_type": "markdown",
   "metadata": {},
   "source": [
    "## Load in Bulletin 118 basin data"
   ]
  },
  {
   "cell_type": "code",
   "execution_count": 17,
   "metadata": {},
   "outputs": [],
   "source": [
    "gdf_118 = gpd.read_file('./raw_data/B118_2018_GISdata/Geodatabase/B118_v6-1.gdb',\n",
    "                        driver='FileGDB',\n",
    "                        layer='i08_B118_v6_1',\n",
    "                        mask = gdf_kern_county)\n",
    "gdf_118 = gdf_118.to_crs(3310)"
   ]
  },
  {
   "cell_type": "code",
   "execution_count": 39,
   "metadata": {},
   "outputs": [
    {
     "data": {
      "text/plain": [
       "Index(['Basin_Number', 'Basin_Subbasin_Number', 'Basin_Name',\n",
       "       'Basin_Subbasin_Name', 'Region_Office', 'Date_Record_Last_Edited',\n",
       "       'Record_Edited_By', 'Comments', 'Date_Data_Applies_To', 'GlobalID',\n",
       "       'SHAPE_Length', 'SHAPE_Area', 'geometry'],\n",
       "      dtype='object')"
      ]
     },
     "execution_count": 39,
     "metadata": {},
     "output_type": "execute_result"
    }
   ],
   "source": [
    "# gdf_apn.crs\n",
    "# gdf_apn.plot()\n",
    "# gdf_crop.sindex.valid_query_predicates\n",
    "# gdf_apn.sindex.valid_query_predicates\n",
    "gdf_118.columns"
   ]
  },
  {
   "cell_type": "code",
   "execution_count": 199,
   "metadata": {},
   "outputs": [],
   "source": [
    "gdf_combo_max_area = gdf_combo_max_area.drop('index_right', axis=1)"
   ]
  },
  {
   "cell_type": "markdown",
   "metadata": {},
   "source": [
    "## Add B118 information via spatial overlay"
   ]
  },
  {
   "cell_type": "code",
   "execution_count": 203,
   "metadata": {},
   "outputs": [],
   "source": [
    "gdf_combo_118 = gpd.sjoin(gdf_combo_max_area, gdf_118, how = 'inner', op = 'intersects')"
   ]
  },
  {
   "cell_type": "code",
   "execution_count": 5,
   "metadata": {},
   "outputs": [],
   "source": [
    "# gdf_combo_118.columns"
   ]
  },
  {
   "cell_type": "code",
   "execution_count": 205,
   "metadata": {},
   "outputs": [],
   "source": [
    "gdf_over = gpd.overlay(gdf_combo_max_area, gdf_118, how = 'intersection')\n",
    "gdf_over['area_overlap'] = gdf_over.geometry.area\n",
    "gdf_over_max = gdf_over.loc[gdf_over.groupby('UniqueID')['area_overlap'].agg(pd.Series.idxmax)][['UniqueID','Basin_Subbasin_Number','area_overlap']]"
   ]
  },
  {
   "cell_type": "code",
   "execution_count": 206,
   "metadata": {},
   "outputs": [],
   "source": [
    "gdf_combo_118_max_area = gdf_combo_118.merge(gdf_over_max, left_on = ['UniqueID','Basin_Subbasin_Number'], right_on = ['UniqueID','Basin_Subbasin_Number'])"
   ]
  },
  {
   "cell_type": "code",
   "execution_count": 4,
   "metadata": {},
   "outputs": [],
   "source": [
    "# gdf_combo_118_max_area.columns"
   ]
  },
  {
   "cell_type": "code",
   "execution_count": 210,
   "metadata": {},
   "outputs": [],
   "source": [
    "gdf_combo_118_max_area = gdf_combo_118_max_area[['UniqueID','geometry', 'PARNO', 'County','Basin_Subbasin_Number', 'crop2018','REGION','ACRES']]"
   ]
  },
  {
   "cell_type": "markdown",
   "metadata": {},
   "source": [
    "## Add GSA information via spatial overlay"
   ]
  },
  {
   "cell_type": "code",
   "execution_count": 212,
   "metadata": {},
   "outputs": [],
   "source": [
    "gdf_combo_GSA = gpd.sjoin(gdf_combo_118_max_area, gdf_gsa, how = 'inner', op = 'intersects')"
   ]
  },
  {
   "cell_type": "code",
   "execution_count": 3,
   "metadata": {},
   "outputs": [],
   "source": [
    "# gdf_combo_GSA.columns"
   ]
  },
  {
   "cell_type": "code",
   "execution_count": 215,
   "metadata": {},
   "outputs": [],
   "source": [
    "gdf_over = gpd.overlay(gdf_combo_118_max_area, gdf_gsa, how = 'intersection')\n",
    "gdf_over['area_overlap'] = gdf_over.geometry.area\n",
    "gdf_over_max = gdf_over.loc[gdf_over.groupby('UniqueID')['area_overlap'].agg(pd.Series.idxmax)][['UniqueID','GSA_ID','area_overlap']]"
   ]
  },
  {
   "cell_type": "code",
   "execution_count": 216,
   "metadata": {},
   "outputs": [],
   "source": [
    "gdf_combo_118_GSA_max_area = gdf_combo_GSA.merge(gdf_over_max, left_on = ['UniqueID','GSA_ID'], right_on = ['UniqueID','GSA_ID'])"
   ]
  },
  {
   "cell_type": "code",
   "execution_count": 2,
   "metadata": {},
   "outputs": [],
   "source": [
    "# gdf_combo_118_GSA_max_area.columns"
   ]
  },
  {
   "cell_type": "code",
   "execution_count": 222,
   "metadata": {},
   "outputs": [],
   "source": [
    "test_export = gdf_combo_118_GSA_max_area.explode()[['UniqueID','geometry', 'PARNO', 'County','GSA_ID', 'DWR_GSA_ID', 'GSA_Name', 'Basin_Subbasin_Number_left', 'crop2018','REGION','ACRES']]"
   ]
  },
  {
   "cell_type": "code",
   "execution_count": 223,
   "metadata": {},
   "outputs": [],
   "source": [
    "test_export.to_file('test_export%.gpkg' % '_kern', driver='GPKG')  "
   ]
  },
  {
   "cell_type": "code",
   "execution_count": null,
   "metadata": {},
   "outputs": [],
   "source": []
  }
 ],
 "metadata": {
  "kernelspec": {
   "display_name": "Python 3",
   "language": "python",
   "name": "python3"
  },
  "language_info": {
   "codemirror_mode": {
    "name": "ipython",
    "version": 3
   },
   "file_extension": ".py",
   "mimetype": "text/x-python",
   "name": "python",
   "nbconvert_exporter": "python",
   "pygments_lexer": "ipython3",
   "version": "3.7.11"
  }
 },
 "nbformat": 4,
 "nbformat_minor": 4
}
