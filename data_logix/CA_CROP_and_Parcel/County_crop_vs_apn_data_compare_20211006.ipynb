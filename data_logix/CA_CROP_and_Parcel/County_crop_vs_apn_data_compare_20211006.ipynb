{
 "cells": [
  {
   "cell_type": "code",
   "execution_count": 41,
   "metadata": {},
   "outputs": [
    {
     "name": "stdout",
     "output_type": "stream",
     "text": [
      "/home/watermaster/Projects/BLX/GIS\n"
     ]
    }
   ],
   "source": [
    "!pwd"
   ]
  },
  {
   "cell_type": "code",
   "execution_count": 3,
   "metadata": {},
   "outputs": [],
   "source": [
    "import pandas as pd"
   ]
  },
  {
   "cell_type": "code",
   "execution_count": 5,
   "metadata": {},
   "outputs": [],
   "source": [
    "apn_counties_df = pd.read_excel('./apns_unique_counties.xlsx')\n",
    "crop_counties_df = pd.read_excel('./crop_unique_counties.xlsx')\n"
   ]
  },
  {
   "cell_type": "markdown",
   "metadata": {},
   "source": [
    "## Potential counties. Counties that have both crop and apn data available."
   ]
  },
  {
   "cell_type": "code",
   "execution_count": 33,
   "metadata": {},
   "outputs": [
    {
     "data": {
      "text/plain": [
       "{'Alameda',\n",
       " 'Alpine',\n",
       " 'Amador',\n",
       " 'Butte',\n",
       " 'Calaveras',\n",
       " 'Contra Costa',\n",
       " 'Del Norte',\n",
       " 'El Dorado',\n",
       " 'Fresno',\n",
       " 'Glenn',\n",
       " 'Humboldt',\n",
       " 'Imperial',\n",
       " 'Kern',\n",
       " 'Kings',\n",
       " 'Lake',\n",
       " 'Lassen',\n",
       " 'Los Angeles',\n",
       " 'Madera',\n",
       " 'Marin',\n",
       " 'Mendocino',\n",
       " 'Merced',\n",
       " 'Mono',\n",
       " 'Monterey',\n",
       " 'Napa',\n",
       " 'Nevada',\n",
       " 'Orange',\n",
       " 'Placer',\n",
       " 'Riverside',\n",
       " 'Sacramento',\n",
       " 'San Benito',\n",
       " 'San Bernardino',\n",
       " 'San Diego',\n",
       " 'San Joaquin',\n",
       " 'San Mateo',\n",
       " 'Santa Barbara',\n",
       " 'Santa Clara',\n",
       " 'Santa Cruz',\n",
       " 'Shasta',\n",
       " 'Sierra',\n",
       " 'Solano',\n",
       " 'Sonoma',\n",
       " 'Stanislaus',\n",
       " 'Sutter',\n",
       " 'Tehama',\n",
       " 'Trinity',\n",
       " 'Tulare',\n",
       " 'Tuolumne',\n",
       " 'Ventura',\n",
       " 'Yolo',\n",
       " 'Yuba'}"
      ]
     },
     "execution_count": 33,
     "metadata": {},
     "output_type": "execute_result"
    }
   ],
   "source": [
    "set(crop_counties_df['COUNTY'].values).intersection(set(apn_counties_df['County'].values))"
   ]
  },
  {
   "cell_type": "markdown",
   "metadata": {},
   "source": [
    "## Counties in crop data but not in apn data"
   ]
  },
  {
   "cell_type": "code",
   "execution_count": 35,
   "metadata": {},
   "outputs": [
    {
     "data": {
      "text/plain": [
       "{'****',\n",
       " 'Colusa',\n",
       " 'Inyo',\n",
       " 'Mariposa',\n",
       " 'Modoc',\n",
       " 'Plumas',\n",
       " 'San Luis Obispo',\n",
       " 'Siskiyou'}"
      ]
     },
     "execution_count": 35,
     "metadata": {},
     "output_type": "execute_result"
    }
   ],
   "source": [
    "set(crop_counties_df['COUNTY'].values).difference(set(apn_counties_df['County'].values))"
   ]
  },
  {
   "cell_type": "markdown",
   "metadata": {},
   "source": [
    "## Counties in apn data but not in crop data "
   ]
  },
  {
   "cell_type": "code",
   "execution_count": 40,
   "metadata": {},
   "outputs": [
    {
     "data": {
      "text/plain": [
       "{'San Francisco'}"
      ]
     },
     "execution_count": 40,
     "metadata": {},
     "output_type": "execute_result"
    }
   ],
   "source": [
    "set(apn_counties_df['County'].values).difference(set(crop_counties_df['COUNTY'].values))"
   ]
  },
  {
   "cell_type": "code",
   "execution_count": null,
   "metadata": {},
   "outputs": [],
   "source": []
  }
 ],
 "metadata": {
  "kernelspec": {
   "display_name": "Python 3",
   "language": "python",
   "name": "python3"
  },
  "language_info": {
   "codemirror_mode": {
    "name": "ipython",
    "version": 3
   },
   "file_extension": ".py",
   "mimetype": "text/x-python",
   "name": "python",
   "nbconvert_exporter": "python",
   "pygments_lexer": "ipython3",
   "version": "3.7.3"
  }
 },
 "nbformat": 4,
 "nbformat_minor": 4
}
